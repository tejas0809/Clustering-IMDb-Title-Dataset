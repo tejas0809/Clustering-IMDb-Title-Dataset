{
  "nbformat": 4,
  "nbformat_minor": 0,
  "metadata": {
    "colab": {
      "name": "ESE545 Project3_module2_shared.ipynb",
      "provenance": [],
      "collapsed_sections": [],
      "machine_shape": "hm"
    },
    "kernelspec": {
      "name": "python3",
      "display_name": "Python 3"
    }
  },
  "cells": [
    {
      "cell_type": "code",
      "metadata": {
        "id": "cmXWKTGElw7X",
        "colab_type": "code",
        "colab": {}
      },
      "source": [
        "import numpy as np\n",
        "import pandas as pd\n",
        "from matplotlib import pyplot as plt\n",
        "import random\n",
        "%matplotlib inline\n",
        "import time "
      ],
      "execution_count": null,
      "outputs": []
    },
    {
      "cell_type": "code",
      "metadata": {
        "id": "khmdAn4Fl10g",
        "colab_type": "code",
        "colab": {
          "base_uri": "https://localhost:8080/",
          "height": 34
        },
        "outputId": "99bc1c5f-051b-48b4-999a-5ce755e91988"
      },
      "source": [
        "from google.colab import drive\n",
        "drive.mount('/content/drive')\n",
        "url = '/content/drive/My Drive/ESE 545/Project 3/Movies.csv'"
      ],
      "execution_count": null,
      "outputs": [
        {
          "output_type": "stream",
          "text": [
            "Drive already mounted at /content/drive; to attempt to forcibly remount, call drive.mount(\"/content/drive\", force_remount=True).\n"
          ],
          "name": "stdout"
        }
      ]
    },
    {
      "cell_type": "code",
      "metadata": {
        "id": "-bYBDViXl8XN",
        "colab_type": "code",
        "colab": {}
      },
      "source": [
        "Movies = pd.read_csv(url)  \n",
        "Movies = Movies.drop(['tconst', 'titleType', 'originalTitle', 'isAdult', 'startYear', 'runtimeMinutes'], axis=1)\n",
        "dataset = np.asarray(Movies)"
      ],
      "execution_count": null,
      "outputs": []
    },
    {
      "cell_type": "code",
      "metadata": {
        "id": "0L6waUhknV0-",
        "colab_type": "code",
        "colab": {}
      },
      "source": [
        "# batch_size, number of iteration, dataset, number of centroid \n",
        "def mini_batch_kmeans(batch_size, num_iteration, dataset, num_centroid):\n",
        "    center = dataset[np.random.choice(dataset.shape[0],num_centroid)]\n",
        "    return center\n",
        "    print(center)\n",
        "    v = np.zeros((num_centroid,1),dtype=float)\n",
        "    for i in range(num_iteration):\n",
        "        sampled_data = dataset[np.random.choice(dataset.shape[0],batch_size)]\n",
        "        for j in range(batch_size):\n",
        "            distance = np.linalg.norm((sampled_data[j]-center),axis=1)\n",
        "            min_index = np.argmin(distance)\n",
        "            v[min_index] += 1\n",
        "            ita = 1/v[min_index]\n",
        "            center[min_index]  = (1-ita)*center[min_index] + ita*sampled_data[j] \n",
        "    return center"
      ],
      "execution_count": null,
      "outputs": []
    },
    {
      "cell_type": "code",
      "metadata": {
        "id": "CghmIZoeoiea",
        "colab_type": "code",
        "colab": {}
      },
      "source": [
        "def model_eva(data, centers):\n",
        "    dis = -2*np.dot(data,centers.T) # m*k, all the distances between datas X and centers C\n",
        "    dis += np.sum(data**2,axis=1)[:,np.newaxis] # axis = 1, row\n",
        "    dis += np.sum(centers**2,axis=1)[np.newaxis,:] # axis = 0, col\n",
        "    dis = np.sqrt(np.abs(dis))    \n",
        "    min_d = np.min(dis,axis = 1)\n",
        "    mean = np.mean(min_d)\n",
        "    minn = np.min(min_d)\n",
        "    maxx = np.max(min_d)\n",
        "    return mean, minn, maxx"
      ],
      "execution_count": null,
      "outputs": []
    },
    {
      "cell_type": "code",
      "metadata": {
        "id": "VoJJC2eHoofS",
        "colab_type": "code",
        "colab": {}
      },
      "source": [
        "def draw_kmeans():\n",
        "  centroids = [5, 10, 20, 30, 50, 100, 150, 200, 250, 300, 350, 400, 450, 500]\n",
        "  centers = []\n",
        "  mean_dis = []\n",
        "  min_dis = []\n",
        "  max_dis = []\n",
        "  for i in range(len(centroids)):\n",
        "    batch_size = 100\n",
        "    num_iteration = 100\n",
        "    center = mini_batch_kmeans(batch_size, num_iteration, dataset, centroids[i])\n",
        "    centers.append(center)\n",
        "    mean, minn, maxx = model_eva(dataset, center)\n",
        "    mean_dis.append(mean)\n",
        "    min_dis.append(minn)\n",
        "    max_dis.append(maxx)\n",
        "  return mean_dis, min_dis, max_dis\n",
        "  # plt.plot(centroids,mean_dis)\n",
        "  # plt.plot(centroids,min_dis)\n",
        "  # plt.plot(centroids,max_dis)\n",
        "  # plt.xlabel('number of centroids')\n",
        "  # plt.ylabel('distance')\n",
        "  # plt.title('Distance vs. Number of Centroids (kmeans)')\n"
      ],
      "execution_count": null,
      "outputs": []
    },
    {
      "cell_type": "code",
      "metadata": {
        "id": "ZwY1UZWFo3X9",
        "colab_type": "code",
        "colab": {}
      },
      "source": [
        "def find_nearest_centroid(dataset, centroid):\n",
        "    dis = -2*np.dot(dataset,centroid.T) # m*k, all the distances between datas X and centers C\n",
        "    dis += np.sum(dataset**2,axis=1)[:,np.newaxis] # axis = 1, row\n",
        "    dis += np.sum(centroid**2,axis=1)[np.newaxis,:] # axis = 0, col\n",
        "    dis = np.sqrt(np.abs(dis))    \n",
        "    min_d = np.min(dis,axis = 1)\n",
        "    return min_d"
      ],
      "execution_count": null,
      "outputs": []
    },
    {
      "cell_type": "code",
      "metadata": {
        "id": "Y5g2WZmWo36m",
        "colab_type": "code",
        "colab": {}
      },
      "source": [
        "def init_centroid(dataset, num_centroid):\n",
        "  m, n = dataset.shape\n",
        "  center = dataset[np.random.randint(0,len(dataset), size = 1)]\n",
        "  dis_mat = np.array(np.square(dataset-center).sum(axis = 1))\n",
        "  p_x = dis_mat/sum(dis_mat)\n",
        "  acc_center = []\n",
        "  for i in range(1,num_centroid):\n",
        "    idx = np.random.choice(np.arange(0,m), p=p_x)\n",
        "    center = np.vstack([center,dataset[idx]])\n",
        "    dis = np.array(np.square(dataset - center[i]).sum(axis=1))\n",
        "    dis_mat = np.vstack([dis_mat,dis])\n",
        "    dis = dis_mat.min(axis=0)\n",
        "    p_x = dis/sum(dis)\n",
        "  return center"
      ],
      "execution_count": null,
      "outputs": []
    },
    {
      "cell_type": "code",
      "metadata": {
        "id": "rIqlptJeo5U2",
        "colab_type": "code",
        "colab": {}
      },
      "source": [
        "def mini_batch_kmeanspp(batch_size, num_iteration, dataset, num_centroid):\n",
        "    center = init_centroid(dataset, num_centroid)\n",
        "    v = np.zeros((num_centroid,1),dtype=float)\n",
        "    for i in range(num_iteration):\n",
        "        sampled_data = dataset[np.random.choice(dataset.shape[0],batch_size)]\n",
        "        for j in range(batch_size):\n",
        "            distance = np.linalg.norm((sampled_data[j]-center),axis=1)\n",
        "            min_index = np.argmin(distance)\n",
        "            v[min_index] += 1\n",
        "            ita = 1/v[min_index]\n",
        "            center[min_index]  = (1-ita)*center[min_index] + ita*sampled_data[j] \n",
        "    return center"
      ],
      "execution_count": null,
      "outputs": []
    },
    {
      "cell_type": "code",
      "metadata": {
        "id": "UX7sxnu5FtVW",
        "colab_type": "code",
        "colab": {}
      },
      "source": [
        "def mini_batch_kmeanspp_draw(batch_size, num_iteration, dataset, num_centroid, center):\n",
        "    v = np.zeros((num_centroid,1),dtype=float)\n",
        "    for i in range(num_iteration):\n",
        "        sampled_data = dataset[np.random.choice(dataset.shape[0],batch_size)]\n",
        "        for j in range(batch_size):\n",
        "            distance = np.linalg.norm((sampled_data[j]-center),axis=1)\n",
        "            min_index = np.argmin(distance)\n",
        "            v[min_index] += 1\n",
        "            ita = 1/v[min_index]\n",
        "            center[min_index]  = (1-ita)*center[min_index] + ita*sampled_data[j] \n",
        "    return center"
      ],
      "execution_count": null,
      "outputs": []
    },
    {
      "cell_type": "code",
      "metadata": {
        "id": "dgBRZ5fwo9JE",
        "colab_type": "code",
        "colab": {}
      },
      "source": [
        "def draw_kmeanspp():\n",
        "    num_centroid = [5, 10, 20, 30, 50, 100, 150, 200, 250, 300, 350, 400, 450, 500]\n",
        "    centers = []\n",
        "    mean_dis = []\n",
        "    min_dis = []\n",
        "    max_dis = []\n",
        "    for i in range(len(centroids)):\n",
        "        batch_size = 100\n",
        "        num_iteration = 100\n",
        "        center = mini_batch_kmeanspp_draw(batch_size, num_iteration, dataset, num_centroid[i], centroids[i])\n",
        "        centers.append(center)\n",
        "        mean, minn, maxx = model_eva(dataset, center)\n",
        "        mean_dis.append(mean)\n",
        "        min_dis.append(minn)\n",
        "        max_dis.append(maxx)\n",
        "    return mean_dis, min_dis, max_dis"
      ],
      "execution_count": null,
      "outputs": []
    },
    {
      "cell_type": "code",
      "metadata": {
        "id": "ABRjIAwsk18y",
        "colab_type": "code",
        "colab": {}
      },
      "source": [
        "def main(dataset):\n",
        "  kmeans_center = mini_batch_kmeans(100, 100, dataset, 100)\n",
        "  kmeanspp_center = mini_batch_kmeanspp(100, 100, dataset, 100)\n",
        "  return kmeans_center, kmeanspp_center"
      ],
      "execution_count": null,
      "outputs": []
    },
    {
      "cell_type": "code",
      "metadata": {
        "id": "wvUkNIc1fSXs",
        "colab_type": "code",
        "colab": {}
      },
      "source": [
        "kmeans_center, kmeanspp_center = main(dataset)"
      ],
      "execution_count": null,
      "outputs": []
    },
    {
      "cell_type": "code",
      "metadata": {
        "id": "PqJ8u8O0knhB",
        "colab_type": "code",
        "colab": {
          "base_uri": "https://localhost:8080/",
          "height": 312
        },
        "outputId": "818e7bd6-f8e0-419d-d450-961153d62b4a"
      },
      "source": [
        "# Plot Result - K-means\n",
        "k_means_mean_dis, k_means_min_dis, k_means_max_dis = draw_kmeans()\n",
        "\n",
        "centroids = [5, 10, 20, 30, 50, 100, 150, 200, 250, 300, 350, 400, 450, 500]\n",
        "fig, ax = plt.subplots()\n",
        "\n",
        "ax.plot(centroids,k_means_mean_dis, '-b',label=\"mean\")\n",
        "ax.plot(centroids,k_means_min_dis, '-r',label = 'min')\n",
        "ax.plot(centroids,k_means_max_dis, '-g',label = 'max')\n",
        "leg = ax.legend()\n",
        "plt.xlabel('number of centroids')\n",
        "plt.ylabel('distance')\n",
        "plt.title('Distance vs. Number of Centroids (kmeans)')"
      ],
      "execution_count": null,
      "outputs": [
        {
          "output_type": "execute_result",
          "data": {
            "text/plain": [
              "Text(0.5, 1.0, 'Distance vs. Number of Centroids (kmeans)')"
            ]
          },
          "metadata": {
            "tags": []
          },
          "execution_count": 129
        },
        {
          "output_type": "display_data",
          "data": {
            "image/png": "[encoded data removed]",
            "text/plain": [
              "<Figure size 432x288 with 1 Axes>"
            ]
          },
          "metadata": {
            "tags": [],
            "needs_background": "light"
          }
        }
      ]
    },
    {
      "cell_type": "code",
      "metadata": {
        "id": "PpT0Yutjktaa",
        "colab_type": "code",
        "colab": {}
      },
      "source": [
        "# Plot Result - K-means++\n",
        "start = time.time()\n",
        "kmeanspp_center = init_centroid(dataset, 500)\n",
        "print(time.time() - start)\n",
        "centroids = [kmeanspp_center[0:5,:], kmeanspp_center[0:10,:], kmeanspp_center[0:20,:], kmeanspp_center[0:30,:], kmeanspp_center[0:50,:], kmeanspp_center[0:100,:], kmeanspp_center[0:150,:], kmeanspp_center[0:200,:], kmeanspp_center[0:250,:], kmeanspp_center[0:300,:], kmeanspp_center[0:350,:], kmeanspp_center[0:400,:], kmeanspp_center[0:450,:], kmeanspp_center[0:500,:]]\n",
        "k_meanspp_mean_dis, k_meanspp_min_dis, k_meanspp_max_dis = draw_kmeanspp()\n",
        "\n",
        "centroids = [5, 10, 20, 30, 50, 100, 150, 200, 250, 300, 350, 400, 450, 500]\n",
        "fig, ax = plt.subplots()\n",
        "\n",
        "ax.plot(centroids,k_meanspp_mean_dis, '-b',label=\"mean\")\n",
        "ax.plot(centroids,k_meanspp_min_dis, '-r',label = 'min')\n",
        "ax.plot(centroids,k_meanspp_max_dis, '-g',label = 'max')\n",
        "leg = ax.legend()\n",
        "plt.xlabel('number of centroids')\n",
        "plt.ylabel('distance')\n",
        "plt.title('Distance vs. Number of Centroids (kmeans++)')"
      ],
      "execution_count": null,
      "outputs": []
    },
    {
      "cell_type": "code",
      "metadata": {
        "id": "PIXxzvDskx0_",
        "colab_type": "code",
        "colab": {}
      },
      "source": [
        "# Plot Result - Comparison\n",
        "centroids = [5, 10, 20, 30, 50, 100, 150, 200, 250, 300, 350, 400, 450, 500]\n",
        "fig, ax = plt.subplots()\n",
        "\n",
        "ax.plot(centroids,k_meanspp_mean_dis, '-b',label=\"k-means++\")\n",
        "ax.plot(centroids,k_means_mean_dis, '-r',label = 'k-means')\n",
        "leg = ax.legend()\n",
        "plt.xlabel('number of centroids')\n",
        "plt.ylabel('distance')\n",
        "plt.title('Max Distance of K-means and K-means++')"
      ],
      "execution_count": null,
      "outputs": []
    }
  ]
}